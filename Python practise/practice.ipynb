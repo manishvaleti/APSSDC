{
 "metadata": {
  "language_info": {
   "codemirror_mode": {
    "name": "ipython",
    "version": 3
   },
   "file_extension": ".py",
   "mimetype": "text/x-python",
   "name": "python",
   "nbconvert_exporter": "python",
   "pygments_lexer": "ipython3",
   "version": "3.7.5"
  },
  "orig_nbformat": 2,
  "kernelspec": {
   "name": "python375jvsc74a57bd0775a7b753f8b6521defcee497e79393719043468050c1fd454679f627dd5b77a",
   "display_name": "Python 3.7.5 64-bit"
  }
 },
 "nbformat": 4,
 "nbformat_minor": 2,
 "cells": [
  {
   "cell_type": "code",
   "execution_count": 1,
   "metadata": {},
   "outputs": [],
   "source": [
    "import pandas as pd \n",
    "import os"
   ]
  },
  {
   "cell_type": "code",
   "execution_count": 2,
   "metadata": {},
   "outputs": [],
   "source": []
  },
  {
   "cell_type": "code",
   "execution_count": 19,
   "metadata": {},
   "outputs": [
    {
     "output_type": "execute_result",
     "data": {
      "text/plain": [
       "                                                  Name  \\\n",
       "0                                        191af112 Alex   \n",
       "1                00038-surekha- VSR& AM DEGREE COLLEGE   \n",
       "2                 121810310018-swetha-Gitam university   \n",
       "3            16491A04C5-Chellingi Priyanka-QIS College   \n",
       "4    168A1A0455-SHAIK SAJID-RISE KRISHNA SAI PRAKAS...   \n",
       "..                                                 ...   \n",
       "159                         Y18ACS511-SIVA SANKAR-BECB   \n",
       "160                         Y18ACS511-SIVA SANKAR-BECB   \n",
       "161                                 [Waiting for name]   \n",
       "162                                           k.rajesh   \n",
       "163                                          sanskriti   \n",
       "\n",
       "                      Email Address Join Time Leave Time  \\\n",
       "0        siripalakiti2000@gmail.com   4:27 AM    5:05 AM   \n",
       "1       chowdary.surekha3@gmail.com   4:00 AM    6:15 AM   \n",
       "2             121810310018@gitam.in   4:00 AM    6:20 AM   \n",
       "3    chellingipriyanka123@gmail.com   5:52 AM    6:37 AM   \n",
       "4           sajidshaik703@gmail.com   4:00 AM    6:08 AM   \n",
       "..                              ...       ...        ...   \n",
       "159       sivasankarmutte@gmail.com   4:02 AM    4:48 AM   \n",
       "160       sivasankarmutte@gmail.com   4:50 AM    6:18 AM   \n",
       "161                             NaN   4:08 AM    4:08 AM   \n",
       "162                             NaN   4:01 AM    4:01 AM   \n",
       "163                             NaN   4:05 AM    4:09 AM   \n",
       "\n",
       "     Time in Session (minutes)  \n",
       "0                           37  \n",
       "1                          134  \n",
       "2                          140  \n",
       "3                           45  \n",
       "4                          128  \n",
       "..                         ...  \n",
       "159                         45  \n",
       "160                         87  \n",
       "161                          0  \n",
       "162                          0  \n",
       "163                          3  \n",
       "\n",
       "[164 rows x 5 columns]"
      ],
      "text/html": "<div>\n<style scoped>\n    .dataframe tbody tr th:only-of-type {\n        vertical-align: middle;\n    }\n\n    .dataframe tbody tr th {\n        vertical-align: top;\n    }\n\n    .dataframe thead th {\n        text-align: right;\n    }\n</style>\n<table border=\"1\" class=\"dataframe\">\n  <thead>\n    <tr style=\"text-align: right;\">\n      <th></th>\n      <th>Name</th>\n      <th>Email Address</th>\n      <th>Join Time</th>\n      <th>Leave Time</th>\n      <th>Time in Session (minutes)</th>\n    </tr>\n  </thead>\n  <tbody>\n    <tr>\n      <th>0</th>\n      <td>191af112 Alex</td>\n      <td>siripalakiti2000@gmail.com</td>\n      <td>4:27 AM</td>\n      <td>5:05 AM</td>\n      <td>37</td>\n    </tr>\n    <tr>\n      <th>1</th>\n      <td>00038-surekha- VSR&amp; AM DEGREE COLLEGE</td>\n      <td>chowdary.surekha3@gmail.com</td>\n      <td>4:00 AM</td>\n      <td>6:15 AM</td>\n      <td>134</td>\n    </tr>\n    <tr>\n      <th>2</th>\n      <td>121810310018-swetha-Gitam university</td>\n      <td>121810310018@gitam.in</td>\n      <td>4:00 AM</td>\n      <td>6:20 AM</td>\n      <td>140</td>\n    </tr>\n    <tr>\n      <th>3</th>\n      <td>16491A04C5-Chellingi Priyanka-QIS College</td>\n      <td>chellingipriyanka123@gmail.com</td>\n      <td>5:52 AM</td>\n      <td>6:37 AM</td>\n      <td>45</td>\n    </tr>\n    <tr>\n      <th>4</th>\n      <td>168A1A0455-SHAIK SAJID-RISE KRISHNA SAI PRAKAS...</td>\n      <td>sajidshaik703@gmail.com</td>\n      <td>4:00 AM</td>\n      <td>6:08 AM</td>\n      <td>128</td>\n    </tr>\n    <tr>\n      <th>...</th>\n      <td>...</td>\n      <td>...</td>\n      <td>...</td>\n      <td>...</td>\n      <td>...</td>\n    </tr>\n    <tr>\n      <th>159</th>\n      <td>Y18ACS511-SIVA SANKAR-BECB</td>\n      <td>sivasankarmutte@gmail.com</td>\n      <td>4:02 AM</td>\n      <td>4:48 AM</td>\n      <td>45</td>\n    </tr>\n    <tr>\n      <th>160</th>\n      <td>Y18ACS511-SIVA SANKAR-BECB</td>\n      <td>sivasankarmutte@gmail.com</td>\n      <td>4:50 AM</td>\n      <td>6:18 AM</td>\n      <td>87</td>\n    </tr>\n    <tr>\n      <th>161</th>\n      <td>[Waiting for name]</td>\n      <td>NaN</td>\n      <td>4:08 AM</td>\n      <td>4:08 AM</td>\n      <td>0</td>\n    </tr>\n    <tr>\n      <th>162</th>\n      <td>k.rajesh</td>\n      <td>NaN</td>\n      <td>4:01 AM</td>\n      <td>4:01 AM</td>\n      <td>0</td>\n    </tr>\n    <tr>\n      <th>163</th>\n      <td>sanskriti</td>\n      <td>NaN</td>\n      <td>4:05 AM</td>\n      <td>4:09 AM</td>\n      <td>3</td>\n    </tr>\n  </tbody>\n</table>\n<p>164 rows × 5 columns</p>\n</div>"
     },
     "metadata": {},
     "execution_count": 19
    }
   ],
   "source": [
    "dataset=pd.read_excel(\"rawdata.xls\")\n",
    "dataset"
   ]
  },
  {
   "cell_type": "code",
   "execution_count": 38,
   "metadata": {},
   "outputs": [
    {
     "output_type": "execute_result",
     "data": {
      "text/plain": [
       "                                                  Name  \\\n",
       "0                                        191af112 Alex   \n",
       "1                00038-surekha- VSR& AM DEGREE COLLEGE   \n",
       "2                 121810310018-swetha-Gitam university   \n",
       "3            16491A04C5-Chellingi Priyanka-QIS College   \n",
       "4    168A1A0455-SHAIK SAJID-RISE KRISHNA SAI PRAKAS...   \n",
       "..                                                 ...   \n",
       "159                         Y18ACS511-SIVA SANKAR-BECB   \n",
       "160                         Y18ACS511-SIVA SANKAR-BECB   \n",
       "161                                 [Waiting for name]   \n",
       "162                                           k.rajesh   \n",
       "163                                          sanskriti   \n",
       "\n",
       "                      Email Address Join Time Leave Time  \\\n",
       "0        siripalakiti2000@gmail.com   4:27 AM    5:05 AM   \n",
       "1       chowdary.surekha3@gmail.com   4:00 AM    6:15 AM   \n",
       "2             121810310018@gitam.in   4:00 AM    6:20 AM   \n",
       "3    chellingipriyanka123@gmail.com   5:52 AM    6:37 AM   \n",
       "4           sajidshaik703@gmail.com   4:00 AM    6:08 AM   \n",
       "..                              ...       ...        ...   \n",
       "159       sivasankarmutte@gmail.com   4:02 AM    4:48 AM   \n",
       "160       sivasankarmutte@gmail.com   4:50 AM    6:18 AM   \n",
       "161                             NaN   4:08 AM    4:08 AM   \n",
       "162                             NaN   4:01 AM    4:01 AM   \n",
       "163                             NaN   4:05 AM    4:09 AM   \n",
       "\n",
       "     Time in Session (minutes)  \n",
       "0                           37  \n",
       "1                          134  \n",
       "2                          140  \n",
       "3                           45  \n",
       "4                          128  \n",
       "..                         ...  \n",
       "159                         45  \n",
       "160                         87  \n",
       "161                          0  \n",
       "162                          0  \n",
       "163                          3  \n",
       "\n",
       "[164 rows x 5 columns]"
      ],
      "text/html": "<div>\n<style scoped>\n    .dataframe tbody tr th:only-of-type {\n        vertical-align: middle;\n    }\n\n    .dataframe tbody tr th {\n        vertical-align: top;\n    }\n\n    .dataframe thead th {\n        text-align: right;\n    }\n</style>\n<table border=\"1\" class=\"dataframe\">\n  <thead>\n    <tr style=\"text-align: right;\">\n      <th></th>\n      <th>Name</th>\n      <th>Email Address</th>\n      <th>Join Time</th>\n      <th>Leave Time</th>\n      <th>Time in Session (minutes)</th>\n    </tr>\n  </thead>\n  <tbody>\n    <tr>\n      <th>0</th>\n      <td>191af112 Alex</td>\n      <td>siripalakiti2000@gmail.com</td>\n      <td>4:27 AM</td>\n      <td>5:05 AM</td>\n      <td>37</td>\n    </tr>\n    <tr>\n      <th>1</th>\n      <td>00038-surekha- VSR&amp; AM DEGREE COLLEGE</td>\n      <td>chowdary.surekha3@gmail.com</td>\n      <td>4:00 AM</td>\n      <td>6:15 AM</td>\n      <td>134</td>\n    </tr>\n    <tr>\n      <th>2</th>\n      <td>121810310018-swetha-Gitam university</td>\n      <td>121810310018@gitam.in</td>\n      <td>4:00 AM</td>\n      <td>6:20 AM</td>\n      <td>140</td>\n    </tr>\n    <tr>\n      <th>3</th>\n      <td>16491A04C5-Chellingi Priyanka-QIS College</td>\n      <td>chellingipriyanka123@gmail.com</td>\n      <td>5:52 AM</td>\n      <td>6:37 AM</td>\n      <td>45</td>\n    </tr>\n    <tr>\n      <th>4</th>\n      <td>168A1A0455-SHAIK SAJID-RISE KRISHNA SAI PRAKAS...</td>\n      <td>sajidshaik703@gmail.com</td>\n      <td>4:00 AM</td>\n      <td>6:08 AM</td>\n      <td>128</td>\n    </tr>\n    <tr>\n      <th>...</th>\n      <td>...</td>\n      <td>...</td>\n      <td>...</td>\n      <td>...</td>\n      <td>...</td>\n    </tr>\n    <tr>\n      <th>159</th>\n      <td>Y18ACS511-SIVA SANKAR-BECB</td>\n      <td>sivasankarmutte@gmail.com</td>\n      <td>4:02 AM</td>\n      <td>4:48 AM</td>\n      <td>45</td>\n    </tr>\n    <tr>\n      <th>160</th>\n      <td>Y18ACS511-SIVA SANKAR-BECB</td>\n      <td>sivasankarmutte@gmail.com</td>\n      <td>4:50 AM</td>\n      <td>6:18 AM</td>\n      <td>87</td>\n    </tr>\n    <tr>\n      <th>161</th>\n      <td>[Waiting for name]</td>\n      <td>NaN</td>\n      <td>4:08 AM</td>\n      <td>4:08 AM</td>\n      <td>0</td>\n    </tr>\n    <tr>\n      <th>162</th>\n      <td>k.rajesh</td>\n      <td>NaN</td>\n      <td>4:01 AM</td>\n      <td>4:01 AM</td>\n      <td>0</td>\n    </tr>\n    <tr>\n      <th>163</th>\n      <td>sanskriti</td>\n      <td>NaN</td>\n      <td>4:05 AM</td>\n      <td>4:09 AM</td>\n      <td>3</td>\n    </tr>\n  </tbody>\n</table>\n<p>164 rows × 5 columns</p>\n</div>"
     },
     "metadata": {},
     "execution_count": 38
    }
   ],
   "source": [
    "change=dataset.copy()\n",
    "change"
   ]
  },
  {
   "cell_type": "code",
   "execution_count": 39,
   "metadata": {},
   "outputs": [
    {
     "output_type": "execute_result",
     "data": {
      "text/plain": [
       "Index(['Name', 'Email Address', 'Join Time', 'Leave Time',\n",
       "       'Time in Session (minutes)'],\n",
       "      dtype='object')"
      ]
     },
     "metadata": {},
     "execution_count": 39
    }
   ],
   "source": [
    "change.columns"
   ]
  },
  {
   "cell_type": "code",
   "execution_count": 40,
   "metadata": {},
   "outputs": [],
   "source": [
    "l=['Email Address', 'Join Time','Leave Time']\n",
    "change=change.drop(columns=l)"
   ]
  },
  {
   "cell_type": "code",
   "execution_count": 43,
   "metadata": {},
   "outputs": [
    {
     "output_type": "execute_result",
     "data": {
      "text/plain": [
       "                                                  Name  \\\n",
       "0                                        191af112 Alex   \n",
       "1                00038-surekha- VSR& AM DEGREE COLLEGE   \n",
       "2                 121810310018-swetha-Gitam university   \n",
       "3            16491A04C5-Chellingi Priyanka-QIS College   \n",
       "4    168A1A0455-SHAIK SAJID-RISE KRISHNA SAI PRAKAS...   \n",
       "..                                                 ...   \n",
       "159                         Y18ACS511-SIVA SANKAR-BECB   \n",
       "160                         Y18ACS511-SIVA SANKAR-BECB   \n",
       "161                                 [Waiting for name]   \n",
       "162                                           k.rajesh   \n",
       "163                                          sanskriti   \n",
       "\n",
       "     Time in Session (minutes)  \n",
       "0                           37  \n",
       "1                          134  \n",
       "2                          140  \n",
       "3                           45  \n",
       "4                          128  \n",
       "..                         ...  \n",
       "159                         45  \n",
       "160                         87  \n",
       "161                          0  \n",
       "162                          0  \n",
       "163                          3  \n",
       "\n",
       "[164 rows x 2 columns]"
      ],
      "text/html": "<div>\n<style scoped>\n    .dataframe tbody tr th:only-of-type {\n        vertical-align: middle;\n    }\n\n    .dataframe tbody tr th {\n        vertical-align: top;\n    }\n\n    .dataframe thead th {\n        text-align: right;\n    }\n</style>\n<table border=\"1\" class=\"dataframe\">\n  <thead>\n    <tr style=\"text-align: right;\">\n      <th></th>\n      <th>Name</th>\n      <th>Time in Session (minutes)</th>\n    </tr>\n  </thead>\n  <tbody>\n    <tr>\n      <th>0</th>\n      <td>191af112 Alex</td>\n      <td>37</td>\n    </tr>\n    <tr>\n      <th>1</th>\n      <td>00038-surekha- VSR&amp; AM DEGREE COLLEGE</td>\n      <td>134</td>\n    </tr>\n    <tr>\n      <th>2</th>\n      <td>121810310018-swetha-Gitam university</td>\n      <td>140</td>\n    </tr>\n    <tr>\n      <th>3</th>\n      <td>16491A04C5-Chellingi Priyanka-QIS College</td>\n      <td>45</td>\n    </tr>\n    <tr>\n      <th>4</th>\n      <td>168A1A0455-SHAIK SAJID-RISE KRISHNA SAI PRAKAS...</td>\n      <td>128</td>\n    </tr>\n    <tr>\n      <th>...</th>\n      <td>...</td>\n      <td>...</td>\n    </tr>\n    <tr>\n      <th>159</th>\n      <td>Y18ACS511-SIVA SANKAR-BECB</td>\n      <td>45</td>\n    </tr>\n    <tr>\n      <th>160</th>\n      <td>Y18ACS511-SIVA SANKAR-BECB</td>\n      <td>87</td>\n    </tr>\n    <tr>\n      <th>161</th>\n      <td>[Waiting for name]</td>\n      <td>0</td>\n    </tr>\n    <tr>\n      <th>162</th>\n      <td>k.rajesh</td>\n      <td>0</td>\n    </tr>\n    <tr>\n      <th>163</th>\n      <td>sanskriti</td>\n      <td>3</td>\n    </tr>\n  </tbody>\n</table>\n<p>164 rows × 2 columns</p>\n</div>"
     },
     "metadata": {},
     "execution_count": 43
    }
   ],
   "source": [
    "change1=change.copy()\n",
    "change1"
   ]
  },
  {
   "cell_type": "code",
   "execution_count": 45,
   "metadata": {},
   "outputs": [
    {
     "output_type": "execute_result",
     "data": {
      "text/plain": [
       "164"
      ]
     },
     "metadata": {},
     "execution_count": 45
    }
   ],
   "source": [
    "\n",
    "len(change1)"
   ]
  },
  {
   "cell_type": "code",
   "execution_count": 47,
   "metadata": {},
   "outputs": [
    {
     "output_type": "error",
     "ename": "KeyError",
     "evalue": "0",
     "traceback": [
      "\u001b[1;31m---------------------------------------------------------------------------\u001b[0m",
      "\u001b[1;31mKeyError\u001b[0m                                  Traceback (most recent call last)",
      "\u001b[1;32m~\\AppData\\Local\\Programs\\Python\\Python37\\lib\\site-packages\\pandas\\core\\indexes\\base.py\u001b[0m in \u001b[0;36mget_loc\u001b[1;34m(self, key, method, tolerance)\u001b[0m\n\u001b[0;32m   3079\u001b[0m             \u001b[1;32mtry\u001b[0m\u001b[1;33m:\u001b[0m\u001b[1;33m\u001b[0m\u001b[1;33m\u001b[0m\u001b[0m\n\u001b[1;32m-> 3080\u001b[1;33m                 \u001b[1;32mreturn\u001b[0m \u001b[0mself\u001b[0m\u001b[1;33m.\u001b[0m\u001b[0m_engine\u001b[0m\u001b[1;33m.\u001b[0m\u001b[0mget_loc\u001b[0m\u001b[1;33m(\u001b[0m\u001b[0mcasted_key\u001b[0m\u001b[1;33m)\u001b[0m\u001b[1;33m\u001b[0m\u001b[1;33m\u001b[0m\u001b[0m\n\u001b[0m\u001b[0;32m   3081\u001b[0m             \u001b[1;32mexcept\u001b[0m \u001b[0mKeyError\u001b[0m \u001b[1;32mas\u001b[0m \u001b[0merr\u001b[0m\u001b[1;33m:\u001b[0m\u001b[1;33m\u001b[0m\u001b[1;33m\u001b[0m\u001b[0m\n",
      "\u001b[1;32mpandas\\_libs\\index.pyx\u001b[0m in \u001b[0;36mpandas._libs.index.IndexEngine.get_loc\u001b[1;34m()\u001b[0m\n",
      "\u001b[1;32mpandas\\_libs\\index.pyx\u001b[0m in \u001b[0;36mpandas._libs.index.IndexEngine.get_loc\u001b[1;34m()\u001b[0m\n",
      "\u001b[1;32mpandas\\_libs\\hashtable_class_helper.pxi\u001b[0m in \u001b[0;36mpandas._libs.hashtable.PyObjectHashTable.get_item\u001b[1;34m()\u001b[0m\n",
      "\u001b[1;32mpandas\\_libs\\hashtable_class_helper.pxi\u001b[0m in \u001b[0;36mpandas._libs.hashtable.PyObjectHashTable.get_item\u001b[1;34m()\u001b[0m\n",
      "\u001b[1;31mKeyError\u001b[0m: 0",
      "\nThe above exception was the direct cause of the following exception:\n",
      "\u001b[1;31mKeyError\u001b[0m                                  Traceback (most recent call last)",
      "\u001b[1;32m<ipython-input-47-f84f805ae19a>\u001b[0m in \u001b[0;36m<module>\u001b[1;34m\u001b[0m\n\u001b[0;32m      1\u001b[0m \u001b[1;32mfor\u001b[0m \u001b[0mi\u001b[0m \u001b[1;32min\u001b[0m \u001b[0mrange\u001b[0m\u001b[1;33m(\u001b[0m\u001b[0mlen\u001b[0m\u001b[1;33m(\u001b[0m\u001b[0mchange1\u001b[0m\u001b[1;33m)\u001b[0m\u001b[1;33m)\u001b[0m\u001b[1;33m:\u001b[0m\u001b[1;33m\u001b[0m\u001b[1;33m\u001b[0m\u001b[0m\n\u001b[1;32m----> 2\u001b[1;33m     \u001b[0mx\u001b[0m\u001b[1;33m=\u001b[0m\u001b[0mchange1\u001b[0m\u001b[1;33m[\u001b[0m\u001b[0mi\u001b[0m\u001b[1;33m]\u001b[0m\u001b[1;33m[\u001b[0m\u001b[1;34m'Name'\u001b[0m\u001b[1;33m]\u001b[0m\u001b[1;33m\u001b[0m\u001b[1;33m\u001b[0m\u001b[0m\n\u001b[0m\u001b[0;32m      3\u001b[0m     \u001b[0mx\u001b[0m\u001b[1;33m=\u001b[0m\u001b[0mx\u001b[0m\u001b[1;33m.\u001b[0m\u001b[0msplit\u001b[0m\u001b[1;33m(\u001b[0m\u001b[1;34m'-'\u001b[0m\u001b[1;33m)\u001b[0m\u001b[1;33m[\u001b[0m\u001b[1;36m0\u001b[0m\u001b[1;33m]\u001b[0m\u001b[1;33m\u001b[0m\u001b[1;33m\u001b[0m\u001b[0m\n\u001b[0;32m      4\u001b[0m     \u001b[0mchange1\u001b[0m\u001b[1;33m[\u001b[0m\u001b[0mi\u001b[0m\u001b[1;33m]\u001b[0m\u001b[1;33m[\u001b[0m\u001b[1;34m'Name'\u001b[0m\u001b[1;33m]\u001b[0m\u001b[1;33m=\u001b[0m\u001b[0mx\u001b[0m\u001b[1;33m\u001b[0m\u001b[1;33m\u001b[0m\u001b[0m\n\u001b[0;32m      5\u001b[0m \u001b[1;33m\u001b[0m\u001b[0m\n",
      "\u001b[1;32m~\\AppData\\Local\\Programs\\Python\\Python37\\lib\\site-packages\\pandas\\core\\frame.py\u001b[0m in \u001b[0;36m__getitem__\u001b[1;34m(self, key)\u001b[0m\n\u001b[0;32m   3022\u001b[0m             \u001b[1;32mif\u001b[0m \u001b[0mself\u001b[0m\u001b[1;33m.\u001b[0m\u001b[0mcolumns\u001b[0m\u001b[1;33m.\u001b[0m\u001b[0mnlevels\u001b[0m \u001b[1;33m>\u001b[0m \u001b[1;36m1\u001b[0m\u001b[1;33m:\u001b[0m\u001b[1;33m\u001b[0m\u001b[1;33m\u001b[0m\u001b[0m\n\u001b[0;32m   3023\u001b[0m                 \u001b[1;32mreturn\u001b[0m \u001b[0mself\u001b[0m\u001b[1;33m.\u001b[0m\u001b[0m_getitem_multilevel\u001b[0m\u001b[1;33m(\u001b[0m\u001b[0mkey\u001b[0m\u001b[1;33m)\u001b[0m\u001b[1;33m\u001b[0m\u001b[1;33m\u001b[0m\u001b[0m\n\u001b[1;32m-> 3024\u001b[1;33m             \u001b[0mindexer\u001b[0m \u001b[1;33m=\u001b[0m \u001b[0mself\u001b[0m\u001b[1;33m.\u001b[0m\u001b[0mcolumns\u001b[0m\u001b[1;33m.\u001b[0m\u001b[0mget_loc\u001b[0m\u001b[1;33m(\u001b[0m\u001b[0mkey\u001b[0m\u001b[1;33m)\u001b[0m\u001b[1;33m\u001b[0m\u001b[1;33m\u001b[0m\u001b[0m\n\u001b[0m\u001b[0;32m   3025\u001b[0m             \u001b[1;32mif\u001b[0m \u001b[0mis_integer\u001b[0m\u001b[1;33m(\u001b[0m\u001b[0mindexer\u001b[0m\u001b[1;33m)\u001b[0m\u001b[1;33m:\u001b[0m\u001b[1;33m\u001b[0m\u001b[1;33m\u001b[0m\u001b[0m\n\u001b[0;32m   3026\u001b[0m                 \u001b[0mindexer\u001b[0m \u001b[1;33m=\u001b[0m \u001b[1;33m[\u001b[0m\u001b[0mindexer\u001b[0m\u001b[1;33m]\u001b[0m\u001b[1;33m\u001b[0m\u001b[1;33m\u001b[0m\u001b[0m\n",
      "\u001b[1;32m~\\AppData\\Local\\Programs\\Python\\Python37\\lib\\site-packages\\pandas\\core\\indexes\\base.py\u001b[0m in \u001b[0;36mget_loc\u001b[1;34m(self, key, method, tolerance)\u001b[0m\n\u001b[0;32m   3080\u001b[0m                 \u001b[1;32mreturn\u001b[0m \u001b[0mself\u001b[0m\u001b[1;33m.\u001b[0m\u001b[0m_engine\u001b[0m\u001b[1;33m.\u001b[0m\u001b[0mget_loc\u001b[0m\u001b[1;33m(\u001b[0m\u001b[0mcasted_key\u001b[0m\u001b[1;33m)\u001b[0m\u001b[1;33m\u001b[0m\u001b[1;33m\u001b[0m\u001b[0m\n\u001b[0;32m   3081\u001b[0m             \u001b[1;32mexcept\u001b[0m \u001b[0mKeyError\u001b[0m \u001b[1;32mas\u001b[0m \u001b[0merr\u001b[0m\u001b[1;33m:\u001b[0m\u001b[1;33m\u001b[0m\u001b[1;33m\u001b[0m\u001b[0m\n\u001b[1;32m-> 3082\u001b[1;33m                 \u001b[1;32mraise\u001b[0m \u001b[0mKeyError\u001b[0m\u001b[1;33m(\u001b[0m\u001b[0mkey\u001b[0m\u001b[1;33m)\u001b[0m \u001b[1;32mfrom\u001b[0m \u001b[0merr\u001b[0m\u001b[1;33m\u001b[0m\u001b[1;33m\u001b[0m\u001b[0m\n\u001b[0m\u001b[0;32m   3083\u001b[0m \u001b[1;33m\u001b[0m\u001b[0m\n\u001b[0;32m   3084\u001b[0m         \u001b[1;32mif\u001b[0m \u001b[0mtolerance\u001b[0m \u001b[1;32mis\u001b[0m \u001b[1;32mnot\u001b[0m \u001b[1;32mNone\u001b[0m\u001b[1;33m:\u001b[0m\u001b[1;33m\u001b[0m\u001b[1;33m\u001b[0m\u001b[0m\n",
      "\u001b[1;31mKeyError\u001b[0m: 0"
     ]
    }
   ],
   "source": [
    "for i in range(len(change1)):\n",
    "    x=change1[i]['Name']\n",
    "    x=x.split('-')[0]\n",
    "    change1[i]['Name']=x\n",
    "\n",
    "change1"
   ]
  },
  {
   "cell_type": "code",
   "execution_count": 54,
   "metadata": {
    "tags": []
   },
   "outputs": [
    {
     "output_type": "error",
     "ename": "AttributeError",
     "evalue": "'Series' object has no attribute 'split'",
     "traceback": [
      "\u001b[1;31m---------------------------------------------------------------------------\u001b[0m",
      "\u001b[1;31mAttributeError\u001b[0m                            Traceback (most recent call last)",
      "\u001b[1;32m<ipython-input-54-c025d4a3b5f4>\u001b[0m in \u001b[0;36m<module>\u001b[1;34m\u001b[0m\n\u001b[0;32m      1\u001b[0m \u001b[1;32mfor\u001b[0m \u001b[0mrow\u001b[0m \u001b[1;32min\u001b[0m \u001b[0mchange1\u001b[0m\u001b[1;33m.\u001b[0m\u001b[0miterrows\u001b[0m\u001b[1;33m(\u001b[0m\u001b[1;33m)\u001b[0m\u001b[1;33m:\u001b[0m\u001b[1;33m\u001b[0m\u001b[1;33m\u001b[0m\u001b[0m\n\u001b[1;32m----> 2\u001b[1;33m     \u001b[0mrow\u001b[0m\u001b[1;33m[\u001b[0m\u001b[1;36m1\u001b[0m\u001b[1;33m]\u001b[0m\u001b[1;33m=\u001b[0m\u001b[0mrow\u001b[0m\u001b[1;33m[\u001b[0m\u001b[1;36m1\u001b[0m\u001b[1;33m]\u001b[0m\u001b[1;33m.\u001b[0m\u001b[0msplit\u001b[0m\u001b[1;33m(\u001b[0m\u001b[1;34m'-'\u001b[0m\u001b[1;33m)\u001b[0m\u001b[1;33m[\u001b[0m\u001b[1;36m0\u001b[0m\u001b[1;33m]\u001b[0m\u001b[1;33m\u001b[0m\u001b[1;33m\u001b[0m\u001b[0m\n\u001b[0m",
      "\u001b[1;32m~\\AppData\\Local\\Programs\\Python\\Python37\\lib\\site-packages\\pandas\\core\\generic.py\u001b[0m in \u001b[0;36m__getattr__\u001b[1;34m(self, name)\u001b[0m\n\u001b[0;32m   5463\u001b[0m             \u001b[1;32mif\u001b[0m \u001b[0mself\u001b[0m\u001b[1;33m.\u001b[0m\u001b[0m_info_axis\u001b[0m\u001b[1;33m.\u001b[0m\u001b[0m_can_hold_identifiers_and_holds_name\u001b[0m\u001b[1;33m(\u001b[0m\u001b[0mname\u001b[0m\u001b[1;33m)\u001b[0m\u001b[1;33m:\u001b[0m\u001b[1;33m\u001b[0m\u001b[1;33m\u001b[0m\u001b[0m\n\u001b[0;32m   5464\u001b[0m                 \u001b[1;32mreturn\u001b[0m \u001b[0mself\u001b[0m\u001b[1;33m[\u001b[0m\u001b[0mname\u001b[0m\u001b[1;33m]\u001b[0m\u001b[1;33m\u001b[0m\u001b[1;33m\u001b[0m\u001b[0m\n\u001b[1;32m-> 5465\u001b[1;33m             \u001b[1;32mreturn\u001b[0m \u001b[0mobject\u001b[0m\u001b[1;33m.\u001b[0m\u001b[0m__getattribute__\u001b[0m\u001b[1;33m(\u001b[0m\u001b[0mself\u001b[0m\u001b[1;33m,\u001b[0m \u001b[0mname\u001b[0m\u001b[1;33m)\u001b[0m\u001b[1;33m\u001b[0m\u001b[1;33m\u001b[0m\u001b[0m\n\u001b[0m\u001b[0;32m   5466\u001b[0m \u001b[1;33m\u001b[0m\u001b[0m\n\u001b[0;32m   5467\u001b[0m     \u001b[1;32mdef\u001b[0m \u001b[0m__setattr__\u001b[0m\u001b[1;33m(\u001b[0m\u001b[0mself\u001b[0m\u001b[1;33m,\u001b[0m \u001b[0mname\u001b[0m\u001b[1;33m:\u001b[0m \u001b[0mstr\u001b[0m\u001b[1;33m,\u001b[0m \u001b[0mvalue\u001b[0m\u001b[1;33m)\u001b[0m \u001b[1;33m->\u001b[0m \u001b[1;32mNone\u001b[0m\u001b[1;33m:\u001b[0m\u001b[1;33m\u001b[0m\u001b[1;33m\u001b[0m\u001b[0m\n",
      "\u001b[1;31mAttributeError\u001b[0m: 'Series' object has no attribute 'split'"
     ]
    }
   ],
   "source": [
    "for row in change1.iterrows():\n",
    "    row[1]=row[1].split('-')[0]"
   ]
  },
  {
   "cell_type": "code",
   "execution_count": 62,
   "metadata": {},
   "outputs": [],
   "source": [
    "for i in change['Name']:\n",
    "    i=i.split('-')[0]"
   ]
  },
  {
   "cell_type": "code",
   "execution_count": 64,
   "metadata": {},
   "outputs": [
    {
     "output_type": "execute_result",
     "data": {
      "text/plain": [
       "                                                  Name  \\\n",
       "0                                        191af112 Alex   \n",
       "1                00038-surekha- VSR& AM DEGREE COLLEGE   \n",
       "2                 121810310018-swetha-Gitam university   \n",
       "3            16491A04C5-Chellingi Priyanka-QIS College   \n",
       "4    168A1A0455-SHAIK SAJID-RISE KRISHNA SAI PRAKAS...   \n",
       "..                                                 ...   \n",
       "159                         Y18ACS511-SIVA SANKAR-BECB   \n",
       "160                         Y18ACS511-SIVA SANKAR-BECB   \n",
       "161                                 [Waiting for name]   \n",
       "162                                           k.rajesh   \n",
       "163                                          sanskriti   \n",
       "\n",
       "     Time in Session (minutes)  \n",
       "0                           37  \n",
       "1                          134  \n",
       "2                          140  \n",
       "3                           45  \n",
       "4                          128  \n",
       "..                         ...  \n",
       "159                         45  \n",
       "160                         87  \n",
       "161                          0  \n",
       "162                          0  \n",
       "163                          3  \n",
       "\n",
       "[164 rows x 2 columns]"
      ],
      "text/html": "<div>\n<style scoped>\n    .dataframe tbody tr th:only-of-type {\n        vertical-align: middle;\n    }\n\n    .dataframe tbody tr th {\n        vertical-align: top;\n    }\n\n    .dataframe thead th {\n        text-align: right;\n    }\n</style>\n<table border=\"1\" class=\"dataframe\">\n  <thead>\n    <tr style=\"text-align: right;\">\n      <th></th>\n      <th>Name</th>\n      <th>Time in Session (minutes)</th>\n    </tr>\n  </thead>\n  <tbody>\n    <tr>\n      <th>0</th>\n      <td>191af112 Alex</td>\n      <td>37</td>\n    </tr>\n    <tr>\n      <th>1</th>\n      <td>00038-surekha- VSR&amp; AM DEGREE COLLEGE</td>\n      <td>134</td>\n    </tr>\n    <tr>\n      <th>2</th>\n      <td>121810310018-swetha-Gitam university</td>\n      <td>140</td>\n    </tr>\n    <tr>\n      <th>3</th>\n      <td>16491A04C5-Chellingi Priyanka-QIS College</td>\n      <td>45</td>\n    </tr>\n    <tr>\n      <th>4</th>\n      <td>168A1A0455-SHAIK SAJID-RISE KRISHNA SAI PRAKAS...</td>\n      <td>128</td>\n    </tr>\n    <tr>\n      <th>...</th>\n      <td>...</td>\n      <td>...</td>\n    </tr>\n    <tr>\n      <th>159</th>\n      <td>Y18ACS511-SIVA SANKAR-BECB</td>\n      <td>45</td>\n    </tr>\n    <tr>\n      <th>160</th>\n      <td>Y18ACS511-SIVA SANKAR-BECB</td>\n      <td>87</td>\n    </tr>\n    <tr>\n      <th>161</th>\n      <td>[Waiting for name]</td>\n      <td>0</td>\n    </tr>\n    <tr>\n      <th>162</th>\n      <td>k.rajesh</td>\n      <td>0</td>\n    </tr>\n    <tr>\n      <th>163</th>\n      <td>sanskriti</td>\n      <td>3</td>\n    </tr>\n  </tbody>\n</table>\n<p>164 rows × 2 columns</p>\n</div>"
     },
     "metadata": {},
     "execution_count": 64
    }
   ],
   "source": [
    "change"
   ]
  },
  {
   "cell_type": "code",
   "execution_count": 65,
   "metadata": {},
   "outputs": [],
   "source": [
    "# Python program to demonstrate\n",
    "# writing to CSV\n",
    "\n",
    "\n",
    "import csv\n",
    "\n",
    "# field names\n",
    "fields = ['Name', 'Time', 'number']\n",
    "\n",
    "# data rows of csv file\n",
    "rows = [['Nikhil', '180', 'AP19110010511'],\n",
    "        ['Sanchit', '120', 'AP1911001105'],\n",
    "        ['Aditya', '133', 'AP1911001105'],\n",
    "        ['Sagar', '143', 'AP1911001105'],\n",
    "        ['Prateek', '20', 'AP1911001105'],\n",
    "        ['Sahil', '102', 'AP1911001105']]\n",
    "\n",
    "# name of csv file\n",
    "filename = \"boo.csv\"\n",
    "\n",
    "# writing to csv file\n",
    "with open(filename, 'w') as csvfile:\n",
    "\t# creating a csv writer object\n",
    "\tcsvwriter = csv.writer(csvfile)\n",
    "\n",
    "\t# writing the fields\n",
    "\tcsvwriter.writerow(fields)\n",
    "\n",
    "\t# writing the data rows\n",
    "\tcsvwriter.writerows(rows)"
   ]
  },
  {
   "cell_type": "code",
   "execution_count": null,
   "metadata": {},
   "outputs": [],
   "source": []
  }
 ]
}