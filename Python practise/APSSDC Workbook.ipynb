{
 "cells": [
  {
   "cell_type": "code",
   "execution_count": 1,
   "id": "2785d730",
   "metadata": {},
   "outputs": [
    {
     "name": "stdout",
     "output_type": "stream",
     "text": [
      "Input=145SYfg&*$#\n",
      "\n",
      "Given string is:  145SYfg&*$#\n",
      "\n",
      "Alphabets in given string 145SYfg&*$# are:  S Y f g \n",
      "\n",
      "Numbers in given string 145SYfg&*$# are: 1 4 5 \n",
      "\n",
      "Special Characters in given string 145SYfg&*$# are:  & * $ # "
     ]
    }
   ],
   "source": [
    "n=input(\"Input=\")\n",
    "print(\"\\nGiven string is: \",n)\n",
    "print(\"\\nAlphabets in given string {} are: \".format(n),end=\" \")\n",
    "for i in n:\n",
    "    if(i.isalpha()):\n",
    "        print(i,end=\" \")\n",
    "print(\"\\n\\nNumbers in given string {} are:\".format(n),end=\" \")\n",
    "for i in n:\n",
    "    if(i.isnumeric()):\n",
    "        print(i,end=\" \")\n",
    "print(\"\\n\\nSpecial Characters in given string {} are: \".format(n),end=\" \")\n",
    "for i in n:\n",
    "    if(i.isalpha()==False and i.isnumeric()==False):\n",
    "        print(i,end=\" \")        "
   ]
  },
  {
   "cell_type": "code",
   "execution_count": 3,
   "id": "2f8256d0",
   "metadata": {},
   "outputs": [
    {
     "name": "stdout",
     "output_type": "stream",
     "text": [
      "456123789\n",
      "Given Number is  456123789\n",
      "Even Numbers are \n",
      "4 6 2 8 \n",
      "Odd Numbers are \n",
      "5 1 3 7 9 "
     ]
    }
   ],
   "source": [
    "def odd(n):\n",
    "    x=str(n)\n",
    "    for i in x:\n",
    "        if(int(i)%2!=0):\n",
    "            print(i,end=\" \")\n",
    "def even(n):\n",
    "    x=str(n)\n",
    "    for i in x:\n",
    "        if(int(i)%2==0):\n",
    "            print(i,end=\" \")\n",
    "\n",
    "n=int(input())\n",
    "print(\"Given Number is \",n )\n",
    "print(\"Even Numbers are \")\n",
    "even(n)\n",
    "print(\"\\nOdd Numbers are \")\n",
    "odd(n)"
   ]
  },
  {
   "cell_type": "code",
   "execution_count": null,
   "id": "51f96c46",
   "metadata": {},
   "outputs": [],
   "source": []
  }
 ],
 "metadata": {
  "kernelspec": {
   "display_name": "Python 3",
   "language": "python",
   "name": "python3"
  },
  "language_info": {
   "codemirror_mode": {
    "name": "ipython",
    "version": 3
   },
   "file_extension": ".py",
   "mimetype": "text/x-python",
   "name": "python",
   "nbconvert_exporter": "python",
   "pygments_lexer": "ipython3",
   "version": "3.7.5"
  }
 },
 "nbformat": 4,
 "nbformat_minor": 5
}
