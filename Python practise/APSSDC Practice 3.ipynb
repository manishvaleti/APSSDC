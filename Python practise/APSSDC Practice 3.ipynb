{
 "cells": [
  {
   "cell_type": "code",
   "execution_count": 17,
   "id": "d855ea11",
   "metadata": {},
   "outputs": [
    {
     "name": "stdout",
     "output_type": "stream",
     "text": [
      "\n",
      "Enter 1 for Addition\n",
      " Enter 2 for Subtraction\n",
      " Enter 3 for multiplication\n",
      " Enter 4 for division\n",
      "Enter the choice: 6\n",
      "Invalid choice please try again.\n",
      "Enter the choice: 8\n",
      "Invalid choice please try again.\n",
      "Enter the choice: 1\n",
      "Enter the first number: 5\n",
      "Enter the second number: 5\n",
      "Given Numbers are 5 and 5 and its addition is 10\n"
     ]
    }
   ],
   "source": [
    "from Calsi import main\n",
    "print(\"\\nEnter 1 for Addition\\n Enter 2 for Subtraction\\n Enter 3 for multiplication\\n Enter 4 for division\")\n",
    "p=int(input(\"Enter the choice: \"))\n",
    "while(p>4):\n",
    "    print(\"Invalid choice please try again.\")\n",
    "    p=int(input(\"Enter the choice: \"))\n",
    "a=int(input(\"Enter the first number: \"))\n",
    "b=int(input(\"Enter the second number: \"))\n",
    "\n",
    "if(p==1):\n",
    "    print(\"Given Numbers are {} and {} and its addition is {}\".format(a,b,main.add(a,b)))\n",
    "elif(p==2):\n",
    "    print(\"Given Numbers are {} and {} and its subtraction is {}\".format(a,b,main.sub(a,b)))\n",
    "elif(p==3):\n",
    "    print(\"Given Numbers are {} and {} and its multipliction is {}\".format(a,b,main.mul(a,b)))\n",
    "elif(p==4):\n",
    "    print(\"Given Numbers are {} and {} and its division is {}\".format(a,b,main.div(a,b)))\n"
   ]
  },
  {
   "cell_type": "code",
   "execution_count": null,
   "id": "a95f52ac",
   "metadata": {},
   "outputs": [],
   "source": []
  }
 ],
 "metadata": {
  "kernelspec": {
   "display_name": "Python 3",
   "language": "python",
   "name": "python3"
  },
  "language_info": {
   "codemirror_mode": {
    "name": "ipython",
    "version": 3
   },
   "file_extension": ".py",
   "mimetype": "text/x-python",
   "name": "python",
   "nbconvert_exporter": "python",
   "pygments_lexer": "ipython3",
   "version": "3.7.5"
  }
 },
 "nbformat": 4,
 "nbformat_minor": 5
}
